{
 "cells": [
  {
   "cell_type": "markdown",
   "metadata": {},
   "source": [
    "# Laborator 2"
   ]
  },
  {
   "cell_type": "markdown",
   "metadata": {},
   "source": [
    "1. Sa se scrie o functie care primeste ca parametru o lista de numere si returneaza un tuplu continand: suma elementelor si diferenta maxima dintre elementele liste"
   ]
  },
  {
   "cell_type": "code",
   "execution_count": 2,
   "metadata": {},
   "outputs": [
    {
     "name": "stdout",
     "output_type": "stream",
     "text": [
      "39 10\n"
     ]
    }
   ],
   "source": [
    "def max_sum_max_diff(number_list : list) -> tuple:\n",
    "    s=sum(number_list)\n",
    "    max_element=max(number_list)\n",
    "    min_element=min(number_list)\n",
    "    max_diff=max_element-min_element\n",
    "    return s, max_diff\n",
    "\n",
    "s, max_diff=max_sum_max_diff([5, 10, 15, 9])\n",
    "print(s, max_diff)"
   ]
  },
  {
   "cell_type": "markdown",
   "metadata": {},
   "source": [
    "2. Scrieti o functie care preia doua liste si returneaza True daca cele doua liste de numere contin cel putin  𝑘  elemente comune ( 𝑘≥1  dat ca parametru intreg, valoare implicita 1), False altfel."
   ]
  },
  {
   "cell_type": "code",
   "execution_count": 3,
   "metadata": {},
   "outputs": [
    {
     "name": "stdout",
     "output_type": "stream",
     "text": [
      "False\n"
     ]
    }
   ],
   "source": [
    "def similar_lists(list1 : list, list2 : list, k = 1)->bool:\n",
    "    similar_elements=0\n",
    "    for element in list1:\n",
    "        if element in list2:\n",
    "            similar_elements+=1\n",
    "    if similar_elements >= k:\n",
    "        return True\n",
    "    return False\n",
    "\n",
    "ok=similar_lists([5, 999, 15, 19], [10, 5, 15, 20], 3)\n",
    "print(ok)"
   ]
  },
  {
   "cell_type": "markdown",
   "metadata": {},
   "source": [
    "3. Sa se scrie o functie care determina daca o lista contine cuvinte reprezentand doar numere intregi (optional: numere fractionare, scrise sub forma parte intreaga, optional urmata de punct zecimal, optional urmata de parte fractionara: 1, 2., 13.14) (Puteti folosi modulul re pentru lucrul cu expresii regulate.) Functia trebuie sa testeze daca:\n",
    "A. elementele din lista sunt stringuri\n",
    "B. fiecare din stringuri este un numar"
   ]
  },
  {
   "cell_type": "code",
   "execution_count": 4,
   "metadata": {},
   "outputs": [
    {
     "name": "stdout",
     "output_type": "stream",
     "text": [
      "True\n"
     ]
    }
   ],
   "source": [
    "import re\n",
    "def int_list(list1 : list):\n",
    "    pattern=re.compile('[-]?[0-9]+[1-9]*(\\.[0-9]+)?')\n",
    "    for word in list1:\n",
    "        if(not pattern.match(word)):\n",
    "            return False\n",
    "    return True\n",
    "    \n",
    "print(int_list(['15', '12', '-13.2']))\n",
    "    "
   ]
  },
  {
   "cell_type": "markdown",
   "metadata": {},
   "source": [
    "4. Sa se scrie o functie care returneaza numarul de vocale si de consoane dintr-un parametru dat - rezultatul returnat de functie este tuplu cu doua valori. Cuvantul se va converti la litere mici in interiorul functiei."
   ]
  },
  {
   "cell_type": "code",
   "execution_count": 5,
   "metadata": {},
   "outputs": [
    {
     "name": "stdout",
     "output_type": "stream",
     "text": [
      "(5, 6)\n"
     ]
    }
   ],
   "source": [
    "def vowels_consonants(word : str)->tuple:\n",
    "    vowels_count=0\n",
    "    consonant_count=0\n",
    "    vowels='a e i o u'\n",
    "    word.lower()\n",
    "    for characther in word:\n",
    "        if characther in vowels:\n",
    "            vowels_count+=1\n",
    "        else:\n",
    "            consonant_count+=1\n",
    "    return vowels_count, consonant_count\n",
    "\n",
    "print(vowels_consonants('abracadabra'))\n"
   ]
  },
  {
   "cell_type": "markdown",
   "metadata": {},
   "source": [
    "5. Sa se scrie o functie care primind o lista de dictionare, returneaza True daca toate dictionarele contin cel putin  𝑛  elemente,  𝑛  transmis ca parametru, False altfel."
   ]
  },
  {
   "cell_type": "code",
   "execution_count": 6,
   "metadata": {},
   "outputs": [
    {
     "data": {
      "text/plain": [
       "True"
      ]
     },
     "execution_count": 6,
     "metadata": {},
     "output_type": "execute_result"
    }
   ],
   "source": [
    "def check_dictionaries(dict_list : list, n : int)->bool:\n",
    "    for dict in dict_list:\n",
    "        if len(dict)!=n:\n",
    "            return False\n",
    "    return True\n",
    "        \n",
    "dict_list=[\n",
    "    {'0':'zero', '1':'unu', '2':'doi', '3':'trei', '4':'patru', '5':'cinci', '6':'sase', '7':'sapte', '8':'opt', '9':'noua'},\n",
    "    {'0':'zero', '1':'one', '2':'two', '3':'three', '4':'four', '5':'five', '6':'six', '7':'seven', '8':'eight', '9':'nine'}\n",
    "          ]\n",
    "check_dictionaries(dict_list, 10)"
   ]
  },
  {
   "cell_type": "markdown",
   "metadata": {},
   "source": [
    "6. Sa se scrie o functie recursiva care sa faca ridicarea la putere a unui numar, astfel:"
   ]
  },
  {
   "cell_type": "code",
   "execution_count": null,
   "metadata": {},
   "outputs": [],
   "source": []
  },
  {
   "cell_type": "markdown",
   "metadata": {},
   "source": [
    "# Exercitii NumPy"
   ]
  },
  {
   "cell_type": "code",
   "execution_count": 7,
   "metadata": {},
   "outputs": [],
   "source": [
    "import numpy as np"
   ]
  },
  {
   "cell_type": "markdown",
   "metadata": {},
   "source": [
    "1. (0.5 puncte) Pentru un vector NumPy dat, sa se determine care sunt elementele unice, in ordine descrescatoare. Exemplu: pentru x = np.array([-4, 3,  5, 3, 2, 1, -3, -4, 2, -4]) functia scrisa de dvs va intoarce rezultatul [ 5,  3,  2,  1, -3, -4]."
   ]
  },
  {
   "cell_type": "code",
   "execution_count": 8,
   "metadata": {},
   "outputs": [
    {
     "name": "stdout",
     "output_type": "stream",
     "text": [
      "[20 15  5]\n"
     ]
    }
   ],
   "source": [
    "def find_unique(array1 : np.array)->np.array:\n",
    "    result=np.array\n",
    "    result=np.unique(array1)\n",
    "    result[::-1]=np.sort(result)\n",
    "    print(result)\n",
    "    \n",
    "find_unique([15, 20, 20, 20, 15, 5])"
   ]
  },
  {
   "cell_type": "markdown",
   "metadata": {},
   "source": [
    "2. (0.5 puncte) Pentru un vector NumPy dat, sa se determine care e elementul cel mai frecvent si cel mai putin frecvent (tuplu de 2 valori). Daca exista mai multe numere cele mai frecvente (cele mai putin frecvente), se va raporta oricare din ele. Exemplu: pentru x = np.array([-4, 3,  5, 3, 2, 1, -3, -4, 2, -4]) functia scrisa de dvs va intoarce rezultatul (-4, -3)."
   ]
  },
  {
   "cell_type": "code",
   "execution_count": 9,
   "metadata": {},
   "outputs": [
    {
     "name": "stdout",
     "output_type": "stream",
     "text": [
      "-4 -3\n"
     ]
    }
   ],
   "source": [
    "def find_most_least_frequent(array1 : np.array)->tuple:\n",
    "    (values,counts) = np.unique(array1, return_counts=True)\n",
    "    max_freq_ind=np.argmax(counts)\n",
    "    least_freq_ind=np.argmin(counts)\n",
    "    print (values[max_freq_ind], values[least_freq_ind])  \n",
    "    \n",
    "find_most_least_frequent([-4, 3,  5, 3, 2, 1, -3, -4, 2, -4])"
   ]
  },
  {
   "cell_type": "markdown",
   "metadata": {},
   "source": [
    "3. (0.5 puncte) Plecand de la o matrice, sa se scrie o functie care returneaza vectorul minimelor de pe linii si vectorul maximelor de pe coloane. Exemplu: pentru matricea mat = np.array([[1, 2, 3, 4], [1, -2, 3, -4], [3, 10, 3, 4]]) functia va returna tuplul de vectori: (array([ 1, -4,  3]), array([ 3, 10,  3,  4])). Indicatie: folositi-va de parametrul axis."
   ]
  },
  {
   "cell_type": "code",
   "execution_count": 10,
   "metadata": {},
   "outputs": [
    {
     "name": "stdout",
     "output_type": "stream",
     "text": [
      "[ 1 -4  3] [ 3 10  3  4]\n"
     ]
    }
   ],
   "source": [
    "def min_row_max_cols(matrix : np.array)->tuple:\n",
    "    max_cols=np.array\n",
    "    min_row=np.array\n",
    "    max_cols=np.amax(matrix, axis=0)\n",
    "    min_row=np.amin(matrix, axis=1)\n",
    "    return min_row, max_cols\n",
    "\n",
    "matrix=([[1, 2, 3, 4],\n",
    "         [1, -2, 3, -4],\n",
    "         [3, 10, 3, 4],\n",
    "        ])\n",
    "min, max=min_row_max_cols(matrix)\n",
    "print(min, max)"
   ]
  },
  {
   "cell_type": "markdown",
   "metadata": {},
   "source": [
    "4. (0.5 puncte) Pentru o matrice de numere, sa se determine produsul elementelor pe linii sau de pe coloane,\n",
    "in functie de valoarea unui parametru boolean compute_on_lines . Exemplu: pentru matricea mat =\n",
    "np.array([[1, 2, 3, 4], [1, -2, 3, -4], [3, 10, 3, 4]]) si parametrul\n",
    "compute_on_lines=True , functia va returna vectorul [ 24 24 360] , iar pentru\n",
    "compute_on_lines=False se va returna [ 3 -40 27 -64] ."
   ]
  },
  {
   "cell_type": "code",
   "execution_count": 11,
   "metadata": {},
   "outputs": [
    {
     "name": "stdout",
     "output_type": "stream",
     "text": [
      "[ 24  24 360]\n"
     ]
    }
   ],
   "source": [
    "def calculator_produs(matrix: np.array, compute_on_lines : bool)->np.array:\n",
    "    resut=np.array\n",
    "    if compute_on_lines==True:\n",
    "        result=np.prod(matrix, axis=1)\n",
    "    else:\n",
    "        result=np.prod(matrix, axis=0)\n",
    "    return result\n",
    "matrix=([[1, 2, 3, 4],\n",
    "         [1, -2, 3, -4],\n",
    "         [3, 10, 3, 4],\n",
    "        ])\n",
    "print(calculator_produs(matrix, True))\n"
   ]
  },
  {
   "cell_type": "markdown",
   "metadata": {},
   "source": [
    "5. (0.5 puncte) Determinati daca macar unul din elementele unei matrice a este mai mare decat cel de pe\n",
    "pozitie corespondenta din b (adica daca avem macar o pereche de indecsi (i, j) pentru care a[i, j] > b[i, j]).\n",
    "Daca da, se va returna o astfel de pereche de indecsi; daca nu, se va returna None."
   ]
  },
  {
   "cell_type": "code",
   "execution_count": 12,
   "metadata": {},
   "outputs": [
    {
     "name": "stdout",
     "output_type": "stream",
     "text": [
      "(1, 0)\n"
     ]
    }
   ],
   "source": [
    "def find_pair(matrix1: np.array, matrix2: np.array)->tuple:\n",
    "    a_rows, a_cols=np.shape(matrix1)\n",
    "    b_rows, b_cols=np.shape(matrix2)\n",
    "    if a_rows!=b_rows or a_cols!=b_cols:\n",
    "        return None\n",
    "    for i in range(0, a_rows):\n",
    "        for j in range(0, a_cols):\n",
    "            if matrix1[i][j]>matrix2[i][j]:\n",
    "                return (i, j)\n",
    "    return None\n",
    "\n",
    "matrix1=([[1, 2, 3, 4],\n",
    "         [1, -2, 3, -4],\n",
    "         [3, 10, 3, 4],\n",
    "        ])\n",
    "matrix2=([[1, 2, 3, 4],\n",
    "         [0, -2, 2, -4],\n",
    "         [3, 10, 3, 4],\n",
    "        ])\n",
    "print(find_pair(matrix1, matrix2))"
   ]
  },
  {
   "cell_type": "markdown",
   "metadata": {},
   "source": [
    "6. (0.5 puncte) Construiti o functie care, primind o matrice, determina pe ce pozitii se afla valorile in afara unui\n",
    "interval [min, max] dat prin parametri."
   ]
  },
  {
   "cell_type": "code",
   "execution_count": 13,
   "metadata": {},
   "outputs": [
    {
     "name": "stdout",
     "output_type": "stream",
     "text": [
      "1 1\n",
      "1 3\n"
     ]
    }
   ],
   "source": [
    "def find_outside_values(matrix: np.array, minimum_value : int, max_value : int):\n",
    "    row_count, col_count=np.shape(matrix)\n",
    "    for i in range(0, row_count):\n",
    "        for j in range(0, col_count):\n",
    "            if matrix[i][j] not in range (minimum_value, max_value+1):\n",
    "                print(i, j)\n",
    "matrix1=([[1, 2, 3, 4],\n",
    "         [1, -2, 3, -4],\n",
    "         [3, 10, 3, 4],\n",
    "        ])\n",
    "find_outside_values(matrix1, 1, 10)"
   ]
  },
  {
   "cell_type": "markdown",
   "metadata": {},
   "source": [
    "7. (1 punct) Se considera vectorul: a = np.array([230, 10, 284, 39, 76]) . Folosind indexarea logica,\n",
    "sa se inmulteasca elementele din vector care sunt mai mici ca 100 cu 2 (restul raman neschimbate).\n",
    "Folosind ciclare, sa se aplice aceeasi operatie pana cand toate elementele devin mai mari ca 100. Sa se\n",
    "afiseze din vectorul final elementele care sunt mai mari de 150 si mai mici de 200."
   ]
  },
  {
   "cell_type": "code",
   "execution_count": 14,
   "metadata": {},
   "outputs": [
    {
     "name": "stdout",
     "output_type": "stream",
     "text": [
      "160\n",
      "156\n",
      "152\n"
     ]
    }
   ],
   "source": [
    "def multiply_array(vec : np.array):\n",
    "    while np.amin(vec)<100:\n",
    "        for i in range(0, len(vec)):\n",
    "            if vec[i]<100:\n",
    "                vec[i]*=2\n",
    "    for i in range(0, len(vec)):\n",
    "        if vec[i] in range (150, 200):\n",
    "            print(vec[i])\n",
    "a = np.array([230, 10, 284, 39, 76])\n",
    "multiply_array(a)"
   ]
  },
  {
   "cell_type": "markdown",
   "metadata": {},
   "source": [
    "8. (1 punct) Sa se scrie o functie pair_max care preia doi vectori de aceeasi lungime si returneaza maximele\n",
    "pe pozitiile corespunzatoare: python\n",
    "a = np.array([3, 7, 9, 13, -10, 200, 3])\n",
    "b = np.array([4, 5, -9, 100, 300, 230, 1])\n",
    "pair_max(a, b)\n",
    "#iesire dorita:\n",
    "array([ 4, 7, 9, 100, 300, 230, 3]) . Functia va verifica cu assert ca vectorii au lungimi\n",
    "egale."
   ]
  },
  {
   "cell_type": "code",
   "execution_count": 15,
   "metadata": {},
   "outputs": [
    {
     "name": "stdout",
     "output_type": "stream",
     "text": [
      "4\n",
      "7\n",
      "9\n",
      "100\n",
      "300\n",
      "230\n",
      "3\n"
     ]
    }
   ],
   "source": [
    "def pair_max(array1 : np.array, array2 : np.array):\n",
    "    max_array=np.array\n",
    "    assert np.shape(array1)==np.shape(array2), \"Lists have a different size!\"\n",
    "    for i in range (0, len(array1)):\n",
    "        print(np.maximum(array1[i], array2[i]))\n",
    "a = np.array([3, 7, 9, 13, -10, 200, 3])\n",
    "b = np.array([4, 5, -9, 100, 300, 230, 1])\n",
    "pair_max(a, b)"
   ]
  },
  {
   "cell_type": "markdown",
   "metadata": {},
   "source": [
    "9. (1 punct) Descarcati setul de date Iris de la adresa 'https://archive.ics.uci.edu/ml/machine-learningdatabases/\n",
    "iris/iris.data (https://archive.ics.uci.edu/ml/machine-learning-databases/iris/iris.data)', si incarcati-l\n",
    "intr--o matrice NumPy, folosind np.genfromtxt . Alegeti aleator 10 pozitii in matricea de 150 linii si 4\n",
    "coloane (omiteti ultima coloana, de tip text), setati aceste valori pe NaN. Construiti o functie care, primind la\n",
    "intrare o matrice, returneaza un tuplu cu indicii de linii respectiv de coloane in care se gasesc valori NaN."
   ]
  },
  {
   "cell_type": "code",
   "execution_count": 20,
   "metadata": {},
   "outputs": [
    {
     "ename": "OSError",
     "evalue": "iris.data not found.",
     "output_type": "error",
     "traceback": [
      "\u001b[1;31m---------------------------------------------------------------------------\u001b[0m",
      "\u001b[1;31mOSError\u001b[0m                                   Traceback (most recent call last)",
      "\u001b[1;32m<ipython-input-20-5fbe522d7471>\u001b[0m in \u001b[0;36m<module>\u001b[1;34m\u001b[0m\n\u001b[0;32m     11\u001b[0m \u001b[1;33m\u001b[0m\u001b[0m\n\u001b[0;32m     12\u001b[0m \u001b[0mmat\u001b[0m\u001b[1;33m=\u001b[0m\u001b[0mnp\u001b[0m\u001b[1;33m.\u001b[0m\u001b[0marray\u001b[0m\u001b[1;33m\u001b[0m\u001b[1;33m\u001b[0m\u001b[0m\n\u001b[1;32m---> 13\u001b[1;33m \u001b[0mfind_nones\u001b[0m\u001b[1;33m(\u001b[0m\u001b[0mmat\u001b[0m\u001b[1;33m)\u001b[0m\u001b[1;33m\u001b[0m\u001b[1;33m\u001b[0m\u001b[0m\n\u001b[0m",
      "\u001b[1;32m<ipython-input-20-5fbe522d7471>\u001b[0m in \u001b[0;36mfind_nones\u001b[1;34m(matrix)\u001b[0m\n\u001b[0;32m      1\u001b[0m \u001b[1;32mfrom\u001b[0m \u001b[0mmath\u001b[0m \u001b[1;32mimport\u001b[0m \u001b[0misnan\u001b[0m\u001b[1;33m\u001b[0m\u001b[1;33m\u001b[0m\u001b[0m\n\u001b[0;32m      2\u001b[0m \u001b[1;32mdef\u001b[0m \u001b[0mfind_nones\u001b[0m\u001b[1;33m(\u001b[0m\u001b[0mmatrix\u001b[0m\u001b[1;33m:\u001b[0m \u001b[0mnp\u001b[0m\u001b[1;33m.\u001b[0m\u001b[0marray\u001b[0m\u001b[1;33m)\u001b[0m\u001b[1;33m:\u001b[0m\u001b[1;33m\u001b[0m\u001b[1;33m\u001b[0m\u001b[0m\n\u001b[1;32m----> 3\u001b[1;33m     \u001b[0mmatrix\u001b[0m\u001b[1;33m=\u001b[0m\u001b[0mnp\u001b[0m\u001b[1;33m.\u001b[0m\u001b[0mgenfromtxt\u001b[0m\u001b[1;33m(\u001b[0m\u001b[1;34m'iris.data'\u001b[0m\u001b[1;33m,\u001b[0m \u001b[0mdtype\u001b[0m\u001b[1;33m=\u001b[0m\u001b[0mfloat\u001b[0m\u001b[1;33m,\u001b[0m \u001b[0mdelimiter\u001b[0m\u001b[1;33m=\u001b[0m\u001b[1;34m','\u001b[0m\u001b[1;33m,\u001b[0m \u001b[0musecols\u001b[0m\u001b[1;33m=\u001b[0m\u001b[1;33m(\u001b[0m\u001b[1;36m0\u001b[0m\u001b[1;33m,\u001b[0m \u001b[1;36m1\u001b[0m\u001b[1;33m,\u001b[0m \u001b[1;36m2\u001b[0m\u001b[1;33m,\u001b[0m \u001b[1;36m3\u001b[0m\u001b[1;33m)\u001b[0m\u001b[1;33m)\u001b[0m\u001b[1;33m\u001b[0m\u001b[1;33m\u001b[0m\u001b[0m\n\u001b[0m\u001b[0;32m      4\u001b[0m     \u001b[1;32mfor\u001b[0m \u001b[0mi\u001b[0m \u001b[1;32min\u001b[0m \u001b[0mrange\u001b[0m\u001b[1;33m(\u001b[0m\u001b[1;36m0\u001b[0m\u001b[1;33m,\u001b[0m \u001b[1;36m10\u001b[0m\u001b[1;33m)\u001b[0m\u001b[1;33m:\u001b[0m\u001b[1;33m\u001b[0m\u001b[1;33m\u001b[0m\u001b[0m\n\u001b[0;32m      5\u001b[0m         \u001b[0mmatrix\u001b[0m\u001b[1;33m[\u001b[0m\u001b[0mnp\u001b[0m\u001b[1;33m.\u001b[0m\u001b[0mrandom\u001b[0m\u001b[1;33m.\u001b[0m\u001b[0mrandint\u001b[0m\u001b[1;33m(\u001b[0m\u001b[1;36m150\u001b[0m\u001b[1;33m)\u001b[0m\u001b[1;33m]\u001b[0m\u001b[1;33m[\u001b[0m\u001b[0mnp\u001b[0m\u001b[1;33m.\u001b[0m\u001b[0mrandom\u001b[0m\u001b[1;33m.\u001b[0m\u001b[0mrandint\u001b[0m\u001b[1;33m(\u001b[0m\u001b[1;36m4\u001b[0m\u001b[1;33m)\u001b[0m\u001b[1;33m]\u001b[0m\u001b[1;33m=\u001b[0m\u001b[1;32mNone\u001b[0m\u001b[1;33m\u001b[0m\u001b[1;33m\u001b[0m\u001b[0m\n",
      "\u001b[1;32mD:\\Anaconda\\envs\\ids\\lib\\site-packages\\numpy\\lib\\npyio.py\u001b[0m in \u001b[0;36mgenfromtxt\u001b[1;34m(fname, dtype, comments, delimiter, skip_header, skip_footer, converters, missing_values, filling_values, usecols, names, excludelist, deletechars, replace_space, autostrip, case_sensitive, defaultfmt, unpack, usemask, loose, invalid_raise, max_rows, encoding)\u001b[0m\n\u001b[0;32m   1770\u001b[0m             \u001b[0mfname\u001b[0m \u001b[1;33m=\u001b[0m \u001b[0mos_fspath\u001b[0m\u001b[1;33m(\u001b[0m\u001b[0mfname\u001b[0m\u001b[1;33m)\u001b[0m\u001b[1;33m\u001b[0m\u001b[1;33m\u001b[0m\u001b[0m\n\u001b[0;32m   1771\u001b[0m         \u001b[1;32mif\u001b[0m \u001b[0misinstance\u001b[0m\u001b[1;33m(\u001b[0m\u001b[0mfname\u001b[0m\u001b[1;33m,\u001b[0m \u001b[0mbasestring\u001b[0m\u001b[1;33m)\u001b[0m\u001b[1;33m:\u001b[0m\u001b[1;33m\u001b[0m\u001b[1;33m\u001b[0m\u001b[0m\n\u001b[1;32m-> 1772\u001b[1;33m             \u001b[0mfid\u001b[0m \u001b[1;33m=\u001b[0m \u001b[0mnp\u001b[0m\u001b[1;33m.\u001b[0m\u001b[0mlib\u001b[0m\u001b[1;33m.\u001b[0m\u001b[0m_datasource\u001b[0m\u001b[1;33m.\u001b[0m\u001b[0mopen\u001b[0m\u001b[1;33m(\u001b[0m\u001b[0mfname\u001b[0m\u001b[1;33m,\u001b[0m \u001b[1;34m'rt'\u001b[0m\u001b[1;33m,\u001b[0m \u001b[0mencoding\u001b[0m\u001b[1;33m=\u001b[0m\u001b[0mencoding\u001b[0m\u001b[1;33m)\u001b[0m\u001b[1;33m\u001b[0m\u001b[1;33m\u001b[0m\u001b[0m\n\u001b[0m\u001b[0;32m   1773\u001b[0m             \u001b[0mfid_ctx\u001b[0m \u001b[1;33m=\u001b[0m \u001b[0mcontextlib\u001b[0m\u001b[1;33m.\u001b[0m\u001b[0mclosing\u001b[0m\u001b[1;33m(\u001b[0m\u001b[0mfid\u001b[0m\u001b[1;33m)\u001b[0m\u001b[1;33m\u001b[0m\u001b[1;33m\u001b[0m\u001b[0m\n\u001b[0;32m   1774\u001b[0m         \u001b[1;32melse\u001b[0m\u001b[1;33m:\u001b[0m\u001b[1;33m\u001b[0m\u001b[1;33m\u001b[0m\u001b[0m\n",
      "\u001b[1;32mD:\\Anaconda\\envs\\ids\\lib\\site-packages\\numpy\\lib\\_datasource.py\u001b[0m in \u001b[0;36mopen\u001b[1;34m(path, mode, destpath, encoding, newline)\u001b[0m\n\u001b[0;32m    267\u001b[0m \u001b[1;33m\u001b[0m\u001b[0m\n\u001b[0;32m    268\u001b[0m     \u001b[0mds\u001b[0m \u001b[1;33m=\u001b[0m \u001b[0mDataSource\u001b[0m\u001b[1;33m(\u001b[0m\u001b[0mdestpath\u001b[0m\u001b[1;33m)\u001b[0m\u001b[1;33m\u001b[0m\u001b[1;33m\u001b[0m\u001b[0m\n\u001b[1;32m--> 269\u001b[1;33m     \u001b[1;32mreturn\u001b[0m \u001b[0mds\u001b[0m\u001b[1;33m.\u001b[0m\u001b[0mopen\u001b[0m\u001b[1;33m(\u001b[0m\u001b[0mpath\u001b[0m\u001b[1;33m,\u001b[0m \u001b[0mmode\u001b[0m\u001b[1;33m,\u001b[0m \u001b[0mencoding\u001b[0m\u001b[1;33m=\u001b[0m\u001b[0mencoding\u001b[0m\u001b[1;33m,\u001b[0m \u001b[0mnewline\u001b[0m\u001b[1;33m=\u001b[0m\u001b[0mnewline\u001b[0m\u001b[1;33m)\u001b[0m\u001b[1;33m\u001b[0m\u001b[1;33m\u001b[0m\u001b[0m\n\u001b[0m\u001b[0;32m    270\u001b[0m \u001b[1;33m\u001b[0m\u001b[0m\n\u001b[0;32m    271\u001b[0m \u001b[1;33m\u001b[0m\u001b[0m\n",
      "\u001b[1;32mD:\\Anaconda\\envs\\ids\\lib\\site-packages\\numpy\\lib\\_datasource.py\u001b[0m in \u001b[0;36mopen\u001b[1;34m(self, path, mode, encoding, newline)\u001b[0m\n\u001b[0;32m    621\u001b[0m                                       encoding=encoding, newline=newline)\n\u001b[0;32m    622\u001b[0m         \u001b[1;32melse\u001b[0m\u001b[1;33m:\u001b[0m\u001b[1;33m\u001b[0m\u001b[1;33m\u001b[0m\u001b[0m\n\u001b[1;32m--> 623\u001b[1;33m             \u001b[1;32mraise\u001b[0m \u001b[0mIOError\u001b[0m\u001b[1;33m(\u001b[0m\u001b[1;34m\"%s not found.\"\u001b[0m \u001b[1;33m%\u001b[0m \u001b[0mpath\u001b[0m\u001b[1;33m)\u001b[0m\u001b[1;33m\u001b[0m\u001b[1;33m\u001b[0m\u001b[0m\n\u001b[0m\u001b[0;32m    624\u001b[0m \u001b[1;33m\u001b[0m\u001b[0m\n\u001b[0;32m    625\u001b[0m \u001b[1;33m\u001b[0m\u001b[0m\n",
      "\u001b[1;31mOSError\u001b[0m: iris.data not found."
     ]
    }
   ],
   "source": [
    "from math import isnan\n",
    "def find_nones(matrix: np.array):\n",
    "    matrix=np.genfromtxt('iris.data', dtype=float, delimiter=',', usecols=(0, 1, 2, 3))\n",
    "    for i in range(0, 10):\n",
    "        matrix[np.random.randint(150)][np.random.randint(4)]=None\n",
    "    row_count, col_count=np.shape(matrix)\n",
    "    for i in range (0, row_count):\n",
    "        for j in range(0 , col_count):\n",
    "            if math.isnan(matrix[i][j]):\n",
    "                print(i , j)\n",
    "\n",
    "             \n",
    "find_nones(mat)"
   ]
  },
  {
   "cell_type": "markdown",
   "metadata": {},
   "source": [
    "10. (1 punct) Sa se construiasca o functie care returneaza cele mai mici k valori dintr-un vector de cel putin k\n",
    "elemente, impreuna cu pozitiile lor."
   ]
  },
  {
   "cell_type": "code",
   "execution_count": 18,
   "metadata": {},
   "outputs": [
    {
     "name": "stdout",
     "output_type": "stream",
     "text": [
      "[-9  1] [2 6]\n"
     ]
    }
   ],
   "source": [
    "def find_mins(array : np.array, k : int)->np.array:\n",
    "    assert len(array)>=k, \"The array is too small\"\n",
    "    idx = np.argpartition(array, k)\n",
    "    print(array[idx[:k]], idx[:k])\n",
    "    \n",
    "array=np.array([4, 5, -9, 100, 300, 230, 1])\n",
    "find_mins(array, 2)"
   ]
  },
  {
   "cell_type": "code",
   "execution_count": null,
   "metadata": {},
   "outputs": [],
   "source": []
  }
 ],
 "metadata": {
  "kernelspec": {
   "display_name": "Python 3",
   "language": "python",
   "name": "python3"
  },
  "language_info": {
   "codemirror_mode": {
    "name": "ipython",
    "version": 3
   },
   "file_extension": ".py",
   "mimetype": "text/x-python",
   "name": "python",
   "nbconvert_exporter": "python",
   "pygments_lexer": "ipython3",
   "version": "3.7.6"
  }
 },
 "nbformat": 4,
 "nbformat_minor": 4
}
